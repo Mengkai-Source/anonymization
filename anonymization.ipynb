{
 "cells": [
  {
   "cell_type": "code",
   "execution_count": 51,
   "id": "114c6f1a-af6e-4098-9a36-c5f8d1ed8b14",
   "metadata": {
    "tags": []
   },
   "outputs": [
    {
     "name": "stdout",
     "output_type": "stream",
     "text": [
      "[type: PERSON, start: 16, end: 21, score: 0.85, type: PHONE_NUMBER, start: 46, end: 58, score: 0.75]\n"
     ]
    }
   ],
   "source": [
    "from presidio_analyzer import AnalyzerEngine\n",
    "\n",
    "text = \"His name is Mr. Jones and his phone number is 212-555-5555\"\n",
    "\n",
    "analyzer = AnalyzerEngine()\n",
    "analyzer_results = analyzer.analyze(text=text, language=\"en\")\n",
    "\n",
    "print(analyzer_results)"
   ]
  },
  {
   "cell_type": "code",
   "execution_count": 73,
   "id": "c9c38434-1c49-4dc4-8611-e9d9ff5105a7",
   "metadata": {
    "tags": []
   },
   "outputs": [
    {
     "name": "stdout",
     "output_type": "stream",
     "text": [
      "[type: EMAIL_ADDRESS, start: 41, end: 62, score: 1.0, type: DATE_TIME, start: 422, end: 432, score: 0.95, type: PERSON, start: 11, end: 22, score: 0.85, type: LOCATION, start: 81, end: 94, score: 0.85, type: LOCATION, start: 96, end: 107, score: 0.85, type: LOCATION, start: 109, end: 111, score: 0.85, type: LOCATION, start: 167, end: 173, score: 0.85, type: PERSON, start: 177, end: 187, score: 0.85, type: DATE_TIME, start: 302, end: 313, score: 0.85, type: LOCATION, start: 480, end: 487, score: 0.85, type: PHONE_NUMBER, start: 138, end: 148, score: 0.75, type: US_DRIVER_LICENSE, start: 388, end: 396, score: 0.6499999999999999, type: DATE_TIME, start: 177, end: 187, score: 0.6, type: URL, start: 41, end: 49, score: 0.5, type: URL, start: 53, end: 62, score: 0.5, type: US_ITIN, start: 354, end: 365, score: 0.5, type: US_SSN, start: 354, end: 365, score: 0.5, type: US_DRIVER_LICENSE, start: 333, end: 342, score: 0.3, type: US_BANK_NUMBER, start: 138, end: 148, score: 0.05, type: US_DRIVER_LICENSE, start: 138, end: 148, score: 0.01]\n"
     ]
    }
   ],
   "source": [
    "# This example covers all possible entities and listed info from Katie\n",
    "text = 'Hello I am Steve Curry, here is my email steve.curry@gmail.com. My address is 10 Greenwood St., Los Angeles, CA 01234. My phone number is 6178424332. I will arrive in Boston \\\n",
    "on 04/23/2023. My credit card number is 1232-3343-3443-4343. My medical information is SP32343232343433 and health insurance is 9SP00254099. My password is LM@MX1323223. My TPI is 932-71-3232. \\\n",
    "My driver license is S2342323 with date of birth being 10/02/1988. The place where I was born is 4500 Case Blv., Detroit, MI 12345.'\n",
    "\n",
    "analyzer_results = analyzer.analyze(text=text, language=\"en\")\n",
    "print(analyzer_results)"
   ]
  },
  {
   "cell_type": "code",
   "execution_count": 74,
   "id": "353f1a35-31e8-4ab0-af1a-e1d9e21aacfe",
   "metadata": {
    "tags": []
   },
   "outputs": [
    {
     "name": "stdout",
     "output_type": "stream",
     "text": [
      "steve.curry@gmail.com EMAIL_ADDRESS\n",
      "10/02/1988 DATE_TIME\n",
      "Steve Curry PERSON\n",
      "Greenwood St. LOCATION\n",
      "Los Angeles LOCATION\n",
      "CA LOCATION\n",
      "Boston LOCATION\n",
      "04/23/2023 PERSON\n",
      "9SP00254099 DATE_TIME\n",
      "Detroit LOCATION\n",
      "6178424332 PHONE_NUMBER\n",
      "S2342323 US_DRIVER_LICENSE\n",
      "04/23/2023 DATE_TIME\n",
      "steve.cu URL\n",
      "gmail.com URL\n",
      "932-71-3232 US_ITIN\n",
      "932-71-3232 US_SSN\n",
      "MX1323223 US_DRIVER_LICENSE\n",
      "6178424332 US_BANK_NUMBER\n",
      "6178424332 US_DRIVER_LICENSE\n"
     ]
    }
   ],
   "source": [
    "for i in analyzer_results:\n",
    "    ele = i.to_dict()\n",
    "    print(text[ele['start']:ele['end']], ele['entity_type'])"
   ]
  },
  {
   "cell_type": "code",
   "execution_count": 76,
   "id": "1e93e9bb-39a7-4ed4-a84f-ba52dff4b4e2",
   "metadata": {
    "tags": []
   },
   "outputs": [],
   "source": [
    "from presidio_anonymizer import AnonymizerEngine\n",
    "from presidio_anonymizer.entities import RecognizerResult, OperatorConfig"
   ]
  },
  {
   "cell_type": "code",
   "execution_count": 77,
   "id": "be2013a2-c8dd-4fe6-8c3a-b5f2986da91b",
   "metadata": {
    "tags": []
   },
   "outputs": [
    {
     "name": "stdout",
     "output_type": "stream",
     "text": [
      "Hello I am <PERSON>, here is my email <EMAIL_ADDRESS>. My address is 10 <LOCATION>, <LOCATION>, <LOCATION> 01234. My phone number is <PHONE_NUMBER>. I will arrive in <LOCATION> on <PERSON>. My credit card number is 1232-3343-3443-4343. My medical information is SP32343232343433 and health insurance is <DATE_TIME>. My password is LM@<US_DRIVER_LICENSE>. My TPI is <US_SSN>. My driver license is <US_DRIVER_LICENSE> with date of birth being <DATE_TIME>. The place where I was born is 4500 Case Blv., <LOCATION>, MI 12345.\n"
     ]
    }
   ],
   "source": [
    "engine = AnonymizerEngine()\n",
    "anonymizer_results = engine.anonymize(text, analyzer_results)\n",
    "print(anonymizer_results.text)"
   ]
  },
  {
   "cell_type": "code",
   "execution_count": 86,
   "id": "b67ba1a6-82ff-4408-9458-9880ac65f0d6",
   "metadata": {
    "tags": []
   },
   "outputs": [
    {
     "data": {
      "text/markdown": [
       "Hello I am <span style=\"color:red;font-weight:700;text-decoration:line-through;\">Steve Curry, </span><span style=\"color:red;font-weight:700;\"><PERSON>, </span>here is my email <span style=\"color:red;font-weight:700;text-decoration:line-through;\">steve.curry@gmail.com. </span><span style=\"color:red;font-weight:700;\"><EMAIL_ADDRESS>. </span>My address is 10 <span style=\"color:red;font-weight:700;text-decoration:line-through;\">Greenwood St., Los Angeles, CA </span><span style=\"color:red;font-weight:700;\"><LOCATION>, <LOCATION>, <LOCATION> </span>01234. My phone number is <span style=\"color:red;font-weight:700;text-decoration:line-through;\">6178424332. </span><span style=\"color:red;font-weight:700;\"><PHONE_NUMBER>. </span>I will arrive in <span style=\"color:red;font-weight:700;text-decoration:line-through;\">Boston </span><span style=\"color:red;font-weight:700;\"><LOCATION> </span>on <span style=\"color:red;font-weight:700;text-decoration:line-through;\">04/23/2023. </span><span style=\"color:red;font-weight:700;\"><PERSON>. </span>My credit card number is 1232-3343-3443-4343. My medical information is SP32343232343433 and health insurance is <span style=\"color:red;font-weight:700;text-decoration:line-through;\">9SP00254099. </span><span style=\"color:red;font-weight:700;\"><DATE_TIME>. </span>My password is <span style=\"color:red;font-weight:700;text-decoration:line-through;\">LM@MX1323223. </span><span style=\"color:red;font-weight:700;\">LM@<US_DRIVER_LICENSE>. </span>My TPI is <span style=\"color:red;font-weight:700;text-decoration:line-through;\">932-71-3232. </span><span style=\"color:red;font-weight:700;\"><US_SSN>. </span>My driver license is <span style=\"color:red;font-weight:700;text-decoration:line-through;\">S2342323 </span><span style=\"color:red;font-weight:700;\"><US_DRIVER_LICENSE> </span>with date of birth being <span style=\"color:red;font-weight:700;text-decoration:line-through;\">10/02/1988. </span><span style=\"color:red;font-weight:700;\"><DATE_TIME>. </span>The place where I was born is 4500 Case Blv., <span style=\"color:red;font-weight:700;text-decoration:line-through;\">Detroit, </span><span style=\"color:red;font-weight:700;\"><LOCATION>, </span>MI 12345."
      ],
      "text/plain": [
       "<IPython.core.display.Markdown object>"
      ]
     },
     "metadata": {},
     "output_type": "display_data"
    }
   ],
   "source": [
    "from redlines import Redlines\n",
    "from IPython.display import display, Markdown, Latex, HTML, JSON\n",
    "diff = Redlines(text, anonymizer_results.text)\n",
    "display(Markdown(diff.output_markdown))"
   ]
  },
  {
   "cell_type": "code",
   "execution_count": null,
   "id": "d20fc156-8cf1-4aff-8d01-135962952aea",
   "metadata": {},
   "outputs": [],
   "source": []
  }
 ],
 "metadata": {
  "kernelspec": {
   "display_name": "Cortex-Python3.10",
   "language": "python",
   "name": "cortex-python3.10"
  },
  "language_info": {
   "codemirror_mode": {
    "name": "ipython",
    "version": 3
   },
   "file_extension": ".py",
   "mimetype": "text/x-python",
   "name": "python",
   "nbconvert_exporter": "python",
   "pygments_lexer": "ipython3",
   "version": "3.10.11"
  }
 },
 "nbformat": 4,
 "nbformat_minor": 5
}
