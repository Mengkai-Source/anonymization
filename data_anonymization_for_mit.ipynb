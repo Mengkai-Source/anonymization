{
 "cells": [
  {
   "cell_type": "markdown",
   "id": "3ab79330-b2ce-4170-88cc-4f6d7b98b9da",
   "metadata": {},
   "source": [
    "## Anonymize data for MIT"
   ]
  },
  {
   "cell_type": "code",
   "execution_count": null,
   "id": "630b5a62-55d3-4825-b0b0-6e53d54ae445",
   "metadata": {},
   "outputs": [],
   "source": [
    "%load_ext autoreload\n",
    "%autoreload 2\n",
    "\n",
    "import sys\n",
    "sys.path.append(\"anonymization\")\n",
    "\n",
    "import pandas as pd\n",
    "import numpy as np\n",
    "import os\n",
    "import multiprocessing as mp\n",
    "from multiprocessing.pool import Pool\n",
    "import re\n",
    "from anonymization.Anonymization import Anonymization, AnonymizerChain\n",
    "from anonymization.anonymizers import EmailAnonymizer, NamedEntitiesAnonymizer, PhoneNumberAnonymizer, UriAnonymizer, DateAnonymizer, MacAddressAnonymizer, CreditCardAnonymizer, IbanAnonymizer, SignatureAnonymizer, NumberAnonymizer\n",
    "from collections import defaultdict\n",
    "import os"
   ]
  },
  {
   "cell_type": "markdown",
   "id": "d4c6f58a-ad9c-464e-aa3e-125219237096",
   "metadata": {
    "tags": []
   },
   "source": [
    "### Load anonymization model"
   ]
  },
  {
   "cell_type": "code",
   "execution_count": 2,
   "id": "c500c475-fc0f-43fb-93de-b967272110ca",
   "metadata": {
    "tags": []
   },
   "outputs": [],
   "source": [
    "class TextMask:\n",
    "    \n",
    "    def __init__(self, anonymizers: list):\n",
    "        self.anon = AnonymizerChain(Anonymization('en_US'))\n",
    "        for ano in anonymizers:\n",
    "            self.anon.add_anonymizers(ano)\n",
    "            \n",
    "    def anonymize(self, text: str):\n",
    "        return self.anon.anonymize(text)\n",
    "    \n",
    "anonymizers = [EmailAnonymizer, PhoneNumberAnonymizer, UriAnonymizer, DateAnonymizer, CreditCardAnonymizer, IbanAnonymizer, NamedEntitiesAnonymizer('en_core_web_lg'), NumberAnonymizer]\n",
    "anon = TextMask(anonymizers)"
   ]
  },
  {
   "cell_type": "markdown",
   "id": "ed3b9dee-7706-4724-8772-11f3f2a7809c",
   "metadata": {},
   "source": [
    "### Read raw 2way SMS data"
   ]
  },
  {
   "cell_type": "code",
   "execution_count": 65,
   "id": "ed8e19d5-dd61-457b-8453-c1377d006e62",
   "metadata": {},
   "outputs": [
    {
     "name": "stdout",
     "output_type": "stream",
     "text": [
      "49\n"
     ]
    }
   ],
   "source": [
    "MAIN_FOLDER_DIR = '../lm_project/2way_sms/2way_sms_data_for_mit/raw_sms_data'\n",
    "MESSAGE_FILE_PATHS = [os.path.join(MAIN_FOLDER_DIR, i) for i in os.listdir(MAIN_FOLDER_DIR)]\n",
    "print(len(MESSAGE_FILE_PATHS))"
   ]
  },
  {
   "cell_type": "code",
   "execution_count": 56,
   "id": "529e7625-b932-4ed4-be8b-86e30c0ec7ea",
   "metadata": {},
   "outputs": [],
   "source": [
    "ASSIT_CAT_MAP_DICT = {'crc': 'Service' ,\n",
    "                      'safeco-gold': 'Service',\n",
    "                      'claims': 'Claims', \n",
    "                      'claims-safeco': 'Claims', \n",
    "                      'no-fault-liberty': 'Claims', \n",
    "                      'no-fault-safeco': 'Claims', \n",
    "                      'property-liberty': 'Claims', \n",
    "                      'property-safeco': 'Claims', \n",
    "                      'casualty-liberty': 'Claims', \n",
    "                      'casualty-safeco': 'Claims', \n",
    "                      'salvage-liberty': 'Claims', \n",
    "                      'salvage-safeco': 'Claims'}"
   ]
  },
  {
   "cell_type": "code",
   "execution_count": 85,
   "id": "f13d9fa7-34ff-4893-a347-1fdbfd99c621",
   "metadata": {},
   "outputs": [],
   "source": [
    "def anonymize_error_tolerate(text: str):\n",
    "    try: \n",
    "        return anon.anonymize(text)\n",
    "    except Exception:\n",
    "        return text\n",
    "    \n",
    "def filter_non_system(messageList_repName: str, messageList_body: str):\n",
    "    try:\n",
    "        if messageList_repName in ['system', 'Billing Bot'] or len(messageList_body.split(' ')) < 2:\n",
    "            return messageList_body\n",
    "        else:\n",
    "            return anonymize_error_tolerate(messageList_body)\n",
    "    except Exception:\n",
    "        return messageList_body"
   ]
  },
  {
   "cell_type": "code",
   "execution_count": null,
   "id": "81ddcca5-3046-49f8-a5a9-96f4f9c2e4b9",
   "metadata": {},
   "outputs": [
    {
     "name": "stdout",
     "output_type": "stream",
     "text": [
      "0 (146937, 40)\n",
      "1 (190339, 40)\n",
      "2 (231085, 40)\n",
      "3 (169262, 40)\n",
      "4 (192863, 40)\n",
      "5 (137698, 40)\n",
      "6 (140805, 40)\n",
      "7 (141856, 40)\n",
      "8 (177537, 40)\n",
      "9 (224511, 40)\n",
      "10 (196045, 40)\n",
      "11 (149447, 40)\n",
      "12 (158088, 40)\n",
      "13 (209185, 40)\n",
      "14 (153254, 40)\n",
      "15 (42746, 40)\n",
      "16 (183698, 40)\n",
      "17 (129523, 40)\n",
      "18 (142767, 40)\n"
     ]
    }
   ],
   "source": [
    "service_df = pd.DataFrame()\n",
    "for num, path in enumerate(MESSAGE_FILE_PATHS):\n",
    "    df_message_sub = pd.read_parquet(path)\n",
    "    df_message_sub['Ass_Cat'] = df_message_sub['type'].map(ASSIT_CAT_MAP_DICT)\n",
    "    service_sub_df = df_message_sub[df_message_sub['Ass_Cat']=='Service'].reset_index(drop=True)\n",
    "    # claims_sub_df = df_message_sub[df_message_sub['Ass_Cat']=='Claims'].reset_index(drop=True)\n",
    "    print(num, service_sub_df.shape)\n",
    "    service_sub_df['anonymized_messageList.body'] = service_sub_df[['messageList.repName', 'messageList.body']].apply(lambda record: filter_non_system(*record), axis=1)\n",
    "    service_df = pd.concat([service_df, service_sub_df])\n",
    "    # df_message = pd.concat([df_message, df_message_sub])\n",
    "    service_df = service_df.reset_index(drop=True)"
   ]
  },
  {
   "cell_type": "code",
   "execution_count": 97,
   "id": "a64f2bce-4d19-4393-aedc-3679ecbcce58",
   "metadata": {},
   "outputs": [
    {
     "data": {
      "text/plain": [
       "claims                  218489\n",
       "crc                     202037\n",
       "claims-safeco           160441\n",
       "campaign-qns            131635\n",
       "policy-billing-liber     84207\n",
       "ivr-claims               37921\n",
       "ivr-safeco               32180\n",
       "property-liberty         30833\n",
       "property-safeco          23109\n",
       "salvage-liberty          20075\n",
       "salvage-safeco           13213\n",
       "cf-service               10496\n",
       "ivr-service              10420\n",
       "ivr-billing               8918\n",
       "no-fault-liberty          4523\n",
       "casualty-liberty          3455\n",
       "grs-pal-auto-gl-libe      3116\n",
       "casualty-safeco           2007\n",
       "no-fault-safeco           1794\n",
       "immc-auto                  608\n",
       "grs-pal-auto-gl-helm       319\n",
       "grs-pal-property-equ       115\n",
       "safeco-gold                 53\n",
       "rt-liberty                  18\n",
       "sales-quote-bot             12\n",
       "weather-alert                6\n",
       "Name: type, dtype: int64"
      ]
     },
     "execution_count": 97,
     "metadata": {},
     "output_type": "execute_result"
    }
   ],
   "source": [
    "df_message_sub['type'].value_counts()"
   ]
  },
  {
   "cell_type": "code",
   "execution_count": null,
   "id": "1f992f0c-a642-4917-8059-75b96513584e",
   "metadata": {},
   "outputs": [],
   "source": [
    "service_df.to_parquet('../lm_project/2way_sms/2way_sms_data_for_mit/anonymized_sms_data/service_anonymized.parquet')"
   ]
  },
  {
   "cell_type": "code",
   "execution_count": 175,
   "id": "3380c807-40b8-4542-bc65-2e770918cd3d",
   "metadata": {},
   "outputs": [
    {
     "name": "stdout",
     "output_type": "stream",
     "text": [
      "(14524269, 41)\n"
     ]
    }
   ],
   "source": [
    "print(service_df.shape)"
   ]
  },
  {
   "cell_type": "code",
   "execution_count": 94,
   "id": "d541ca28-4b5a-461e-aeba-a8cf2b3bd19c",
   "metadata": {},
   "outputs": [
    {
     "name": "stdout",
     "output_type": "stream",
     "text": [
      "(8226846, 41)\n"
     ]
    }
   ],
   "source": [
    "print(service_df.shape) # dhms('31JUL2021'd, 0, 0, 0);"
   ]
  },
  {
   "cell_type": "code",
   "execution_count": 176,
   "id": "371c6437-12a9-448d-ac00-8dc883115e06",
   "metadata": {},
   "outputs": [
    {
     "data": {
      "text/plain": [
       "system         3120122\n",
       "Billing Bot    1888070\n",
       "Name: messageList.repName, dtype: int64"
      ]
     },
     "execution_count": 176,
     "metadata": {},
     "output_type": "execute_result"
    }
   ],
   "source": [
    "service_df[service_df['messageList.repName'].isin(['system', 'Billing Bot'])]['messageList.repName'].value_counts()"
   ]
  },
  {
   "cell_type": "code",
   "execution_count": 31,
   "id": "fac12469-9d40-4ba2-97d7-791168a9c504",
   "metadata": {},
   "outputs": [
    {
     "data": {
      "text/plain": [
       "system         1567364\n",
       "Billing Bot    1312937\n",
       "Name: messageList.repName, dtype: int64"
      ]
     },
     "execution_count": 31,
     "metadata": {},
     "output_type": "execute_result"
    }
   ],
   "source": []
  },
  {
   "cell_type": "code",
   "execution_count": 69,
   "id": "b7288ccc-f1d0-4bf1-a9a1-41351d710dda",
   "metadata": {},
   "outputs": [
    {
     "data": {
      "text/html": [
       "<div>\n",
       "<style scoped>\n",
       "    .dataframe tbody tr th:only-of-type {\n",
       "        vertical-align: middle;\n",
       "    }\n",
       "\n",
       "    .dataframe tbody tr th {\n",
       "        vertical-align: top;\n",
       "    }\n",
       "\n",
       "    .dataframe thead th {\n",
       "        text-align: right;\n",
       "    }\n",
       "</style>\n",
       "<table border=\"1\" class=\"dataframe\">\n",
       "  <thead>\n",
       "    <tr style=\"text-align: right;\">\n",
       "      <th></th>\n",
       "      <th>_id</th>\n",
       "      <th>channelType</th>\n",
       "      <th>claimNumber</th>\n",
       "      <th>closedDtm</th>\n",
       "      <th>closedType</th>\n",
       "      <th>consumerName</th>\n",
       "      <th>consumerPhone</th>\n",
       "      <th>consumerType</th>\n",
       "      <th>coverageType</th>\n",
       "      <th>createdDtm</th>\n",
       "      <th>...</th>\n",
       "      <th>schemaVersion</th>\n",
       "      <th>status</th>\n",
       "      <th>taskSid</th>\n",
       "      <th>topic</th>\n",
       "      <th>type</th>\n",
       "      <th>underwritingCompany</th>\n",
       "      <th>unreadDtm</th>\n",
       "      <th>unreadStatus</th>\n",
       "      <th>Ass_Cat</th>\n",
       "      <th>anonymized_messageList.body</th>\n",
       "    </tr>\n",
       "  </thead>\n",
       "  <tbody>\n",
       "    <tr>\n",
       "      <th>0</th>\n",
       "      <td>6336675b556c21006827d2b3</td>\n",
       "      <td>sms</td>\n",
       "      <td>None</td>\n",
       "      <td>2022-09-30 03:50:47.982</td>\n",
       "      <td>manual</td>\n",
       "      <td>None</td>\n",
       "      <td>6063078032</td>\n",
       "      <td>None</td>\n",
       "      <td>crc</td>\n",
       "      <td>2022-09-30 03:49:47.709</td>\n",
       "      <td>...</td>\n",
       "      <td>1.0</td>\n",
       "      <td>closed</td>\n",
       "      <td>None</td>\n",
       "      <td>Rate</td>\n",
       "      <td>crc</td>\n",
       "      <td>None</td>\n",
       "      <td>2022-09-30 03:49:47.709</td>\n",
       "      <td>0.0</td>\n",
       "      <td>Service</td>\n",
       "      <td>Hi how do I reinstate my policy and get my ins...</td>\n",
       "    </tr>\n",
       "    <tr>\n",
       "      <th>1</th>\n",
       "      <td>6336675b556c21006827d2b3</td>\n",
       "      <td>sms</td>\n",
       "      <td>None</td>\n",
       "      <td>2022-09-30 03:50:47.982</td>\n",
       "      <td>manual</td>\n",
       "      <td>None</td>\n",
       "      <td>6063078032</td>\n",
       "      <td>None</td>\n",
       "      <td>crc</td>\n",
       "      <td>2022-09-30 03:49:47.709</td>\n",
       "      <td>...</td>\n",
       "      <td>1.0</td>\n",
       "      <td>closed</td>\n",
       "      <td>None</td>\n",
       "      <td>Rate</td>\n",
       "      <td>crc</td>\n",
       "      <td>None</td>\n",
       "      <td>2022-09-30 03:49:47.709</td>\n",
       "      <td>0.0</td>\n",
       "      <td>Service</td>\n",
       "      <td>By texting us, you agree Liberty Mutual can te...</td>\n",
       "    </tr>\n",
       "  </tbody>\n",
       "</table>\n",
       "<p>2 rows × 41 columns</p>\n",
       "</div>"
      ],
      "text/plain": [
       "                        _id channelType claimNumber               closedDtm  \\\n",
       "0  6336675b556c21006827d2b3         sms        None 2022-09-30 03:50:47.982   \n",
       "1  6336675b556c21006827d2b3         sms        None 2022-09-30 03:50:47.982   \n",
       "\n",
       "  closedType consumerName consumerPhone consumerType coverageType  \\\n",
       "0     manual         None    6063078032         None          crc   \n",
       "1     manual         None    6063078032         None          crc   \n",
       "\n",
       "               createdDtm  ... schemaVersion  status taskSid topic type  \\\n",
       "0 2022-09-30 03:49:47.709  ...           1.0  closed    None  Rate  crc   \n",
       "1 2022-09-30 03:49:47.709  ...           1.0  closed    None  Rate  crc   \n",
       "\n",
       "  underwritingCompany               unreadDtm unreadStatus  Ass_Cat  \\\n",
       "0                None 2022-09-30 03:49:47.709          0.0  Service   \n",
       "1                None 2022-09-30 03:49:47.709          0.0  Service   \n",
       "\n",
       "                         anonymized_messageList.body  \n",
       "0  Hi how do I reinstate my policy and get my ins...  \n",
       "1  By texting us, you agree Liberty Mutual can te...  \n",
       "\n",
       "[2 rows x 41 columns]"
      ]
     },
     "execution_count": 69,
     "metadata": {},
     "output_type": "execute_result"
    }
   ],
   "source": [
    "service_df.head(2)"
   ]
  },
  {
   "cell_type": "code",
   "execution_count": 54,
   "id": "f3e02710-a137-4a64-83f9-4de3f117d3da",
   "metadata": {},
   "outputs": [
    {
     "data": {
      "text/plain": [
       "0    Hi how do I reinstate my policy and get my ins...\n",
       "1    By texting us, you agree Liberty Mutual can te...\n",
       "2    Hi there! To help get you to the right place, ...\n",
       "3                                  Ask about my policy\n",
       "4    Could you try that again? Type 1-5 from the op...\n",
       "5                                     [number_removed]\n",
       "6    We can certainly review your policy for potent...\n",
       "Name: anonymized_messageList.body, dtype: object"
      ]
     },
     "execution_count": 54,
     "metadata": {},
     "output_type": "execute_result"
    }
   ],
   "source": [
    "service_df[service_df['_id']=='6336675b556c21006827d2b3'].sort_values(by='messageList_idx')['anonymized_messageList.body']"
   ]
  },
  {
   "cell_type": "code",
   "execution_count": 181,
   "id": "f04f86bd-fbba-4d66-ab5b-64b2ec1a394e",
   "metadata": {},
   "outputs": [
    {
     "name": "stdout",
     "output_type": "stream",
     "text": [
      "f7b31ed0-9be5-11ec-b929-93cd64c8d7ac \n",
      "\n",
      "We can certainly review your policy for potential savings and to confirm you have the best coverage for your needs! Please call us at 800-658-9857 and inform the agent you are interested in a policy review. They will be happy to assist you since a review cannot be completed via text. \n",
      " We can certainly review your policy for potential savings and to confirm you have the best coverage for your needs! Please call us at 800-658-9857 and inform the agent you are interested in a policy review. They will be happy to assist you since a review cannot be completed via text. \n",
      "\n",
      "679f5eb0-b1a5-11eb-8a55-b5a031b90e5e \n",
      "\n",
      "Good morning. I apologize for our delayed response. I'm happy to see you were able to get this taken care of already. Feel free to reach back out if you ever need assistance in the future. Stay safe! Please take a moment to complete our short survey to let us know how we're doing.  https://libertymutualvoc.co1.qualtrics.com/jfe/form/SV_5cJIFsmSC8UC4d0?Num=271517 \n",
      " Good morning. I apologize for our delayed response. I'm happy to see you were able to get this taken care of already. Feel free to reach back out if you ever need assistance in the future. Stay safe! Please take a moment to complete our short survey to let us know how we're doing.  [[address_removed] \n",
      "\n",
      "7cd9dd29-d93f-4406-b277-d4073c3e6d73 \n",
      "\n",
      "Thank you for contacting Liberty Mutual Insurance.  My name is Vance.  I'd be happy to help you. May I have your first/last name and complete address so I can verify your account? \n",
      " Thank you for contacting Liberty Mutual Insurance.  My name is [name_removed].  I'd be happy to help you. May I have your first/last name and complete address so I can verify your account? \n",
      "\n",
      "48c45500-11b2-11ec-9d92-a30e8c4aa0de \n",
      "\n",
      "I wanted to verify if I have any current policy with you. \n",
      " I wanted to verify if I have any current policy with you. \n",
      "\n",
      "97fdd140-ebd4-11eb-befa-89c81aa5a6df \n",
      "\n",
      "I need to add my landlord information to my policy as a lessor or something like that . \n",
      " I need to add my landlord information to my policy as a lessor or something like that . \n",
      "\n",
      "25b19f20-db47-11ea-b775-3d86d0f55cc2 \n",
      "\n",
      "I sold my car and need to verify coverage in my new car \n",
      " I sold my car and need to verify coverage in my new car \n",
      "\n",
      "cdeba290-4b42-11ed-ad33-b506cbd469da \n",
      "\n",
      "In \n",
      " In \n",
      "\n",
      "4be3f800-90af-11eb-9d68-719d910ee18a \n",
      "\n",
      "Thank you for your message! An agent will respond to your text in the order received. Text OUT to stop, HELP for help. T&C https://sms.libertymutual.com/help/0 \n",
      " Thank you for your message! An agent will respond to your text in the order received. Text OUT to stop, HELP for help. T&C https://sms.libertymutual.com/help/0 \n",
      "\n",
      "69f19260-5a8d-11eb-af31-3db4efb02226 \n",
      "\n",
      "Liberty Mutual: Call 18883988924 for customer service. Reply STOP to opt-out. T&C https://sms.libertymutual.com/help/0 \n",
      " Liberty Mutual: Call 18883988924 for customer service. Reply STOP to opt-out. T&C https://sms.libertymutual.com/help/0 \n",
      "\n",
      "85dd9fb0-36b4-11ec-8486-1f90a0132512 \n",
      "\n",
      "I have already submitted that four times \n",
      " I have already submitted that [number_removed] times \n",
      "\n",
      "af4e9930-ba2a-11ed-831f-457d2c68ed72 \n",
      "\n",
      "Could you try that again? Type 1-5 from the options above. \n",
      " Could you try that again? Type 1-5 from the options above. \n",
      "\n",
      "b0a3f660-a3e0-11ec-bb97-87b43ca26c57 \n",
      "\n",
      "Liberty Mutual: You will no longer receive text messages from this #. To reenroll, reply IN. Reply HELP for help. \n",
      " Liberty Mutual: You will no longer receive text messages from this #. To reenroll, reply IN. Reply HELP for help. \n",
      "\n",
      "bcaf0850-d545-11ec-a89f-6d1fe6f5fabe \n",
      "\n",
      "Yes \n",
      " Yes \n",
      "\n",
      "77f9c140-2bbe-11ec-ad76-875cf7fff123 \n",
      "\n",
      "Help \n",
      " Help \n",
      "\n",
      "bb51f3f0-9720-11eb-b9a5-e92965f5f6d7 \n",
      "\n",
      "We are unable to make calls by text. You may call us at 800-290-7933. Our hours are Monday - Friday 8:00 AM - 10:00 PM, Saturday 8:00 AM - 8:00 PM and Sunday 11:00 AM - 5:00 PM EST. \n",
      " We are unable to make calls by text. You may call us at [number_removed]. Our hours are Monday - Friday [date_removed], [date_removed] and [date_removed]. \n",
      "\n",
      "88436470-18b4-11eb-a0ab-0f06b25c23b0 \n",
      "\n",
      "Thank you for your text! A specialist will be in touch as soon as possible. Text STOP to stop; text HELP for help. T&C https://sms.libertymutual.com/help/0 \n",
      " Thank you for your text! A specialist will be in touch as soon as possible. Text STOP to stop; text HELP for help. T&C https://sms.libertymutual.com/help/0 \n",
      "\n",
      "1b440910-9144-11ec-b27c-91e2ab30f7ad \n",
      "\n",
      "Hi there! To help get you to the right place, tell us which of the following you're texting about today:\n",
      "\n",
      "1- My Bill\n",
      "2- Ask about my premium\n",
      "3- Cancel my policy\n",
      "4- Report or ask about a claim\n",
      "5- Something else \n",
      " Hi there! To help get you to the right place, tell us which of the following you're texting about today:\n",
      "\n",
      "1- My Bill\n",
      "2- Ask about my premium\n",
      "3- Cancel my policy\n",
      "4- Report or ask about a claim\n",
      "5- Something else \n",
      "\n",
      "ad9ce4f7-ea3a-4774-831e-30edc40866f3 \n",
      "\n",
      "If you still need assistance, feel free to reach back out. Thank you for texting! For future needs, please text with us again or download our app https://lmins.co/mobile-app-link to explore available options such as mobile ID cards and documents as well as billing and payment information. You will get a short survey and I would appreciate your feedback on my service today.  https://libertymutualvoc.co1.qualtrics.com/jfe/form/SV_5cJIFsmSC8UC4d0?Num=312266 \n",
      " If you still need assistance, feel free to reach back out. Thank you for texting! For future needs, please text with us again or download our app [uri_removed] to explore available options such as mobile ID cards and documents as well as billing and payment information. You will get a short survey and I would appreciate your feedback on my service today.  [uri_removed]?Num=[number_removed] \n",
      "\n",
      "5ba6a4e0-36ae-11ec-9fb8-a911fbbcacb1 \n",
      "\n",
      "Yes I started a new job and I won't get paid until the 30th of October set pay date \n",
      " Yes I started a new job and I won't get paid until [date_removed] set pay date \n",
      "\n",
      "424ebd20-b73c-11ec-a8e4-437f7165d1b6 \n",
      "\n",
      "No \n",
      " No \n",
      "\n"
     ]
    }
   ],
   "source": [
    "for index, row in service_df.sample(20).iterrows():\n",
    "    print(row['messageList.messageId'], '\\n')\n",
    "    print(row['messageList.body'], '\\n',row['anonymized_messageList.body'] , '\\n')"
   ]
  },
  {
   "cell_type": "markdown",
   "id": "976d7832-09bf-417c-909a-64ecd1582eb9",
   "metadata": {},
   "source": [
    "### Save data in compliance with MIT requested format"
   ]
  },
  {
   "cell_type": "code",
   "execution_count": null,
   "id": "3dfe27af-183b-4785-98f2-f36c9fad3160",
   "metadata": {},
   "outputs": [],
   "source": [
    "service_df['messageList.body'] = service_df['anonymized_messageList.body']\n",
    "service_df = service_df.drop(columns=['anonymized_messageList.body'])"
   ]
  },
  {
   "cell_type": "code",
   "execution_count": 184,
   "id": "bda59edf-03c8-4a82-a858-247c753431a1",
   "metadata": {},
   "outputs": [
    {
     "name": "stdout",
     "output_type": "stream",
     "text": [
      "(14524269, 43)\n"
     ]
    }
   ],
   "source": [
    "service_df['createdate'] = pd.to_datetime(service_df['messageList.msgCreatedDtm']).dt.date\n",
    "service_df['year'] = pd.to_datetime(service_df['createdate']).dt.year \n",
    "service_df['month'] = pd.to_datetime(service_df['createdate']).dt.month\n",
    "print(service_df.shape)"
   ]
  },
  {
   "cell_type": "code",
   "execution_count": 197,
   "id": "bc44dc05-de12-4b37-ac45-3dd1fd9e33dd",
   "metadata": {},
   "outputs": [
    {
     "name": "stdout",
     "output_type": "stream",
     "text": [
      "0a037cb0-54c3-11ed-8738-db7828e9a16a \n",
      "\n",
      "My name is [name_removed]\n",
      "dd4850b0-3f11-11eb-b13f-cd089a5021da \n",
      "\n",
      "Liberty Mutual: How can I help you today? By texting us, you agree to rec txts at this #. Consent not reqd for svc. May use automated msg systems. Txt STOP to stop. Msg&Data rates apply.\n",
      "\n",
      "4eefd5b0-f985-11ec-978b-79810d642130 \n",
      "\n",
      "No\n",
      "9eec9ca0-4c89-11ec-8383-c5e83dd3bce0 \n",
      "\n",
      "I'm getting the confirmation mail in creating my account for first time\n",
      "ad075a8c-cb23-4cf8-90e6-68a41b5bbaaf \n",
      "\n",
      "Hi there! My name is [name_removed] and I would be happy to assist you via Text, or you may call our office at [number_removed]-[number_removed]. Agents will be available until [date_removed] tonight.\n"
     ]
    }
   ],
   "source": [
    "for index, row in service_df.sample(5).iterrows():\n",
    "    print(row['messageList.messageId'], '\\n')\n",
    "    print(row['messageList.body'])"
   ]
  },
  {
   "cell_type": "code",
   "execution_count": 130,
   "id": "e21cec96-185d-4eaf-8a14-7bb3d6a53626",
   "metadata": {},
   "outputs": [
    {
     "data": {
      "text/html": [
       "<div>\n",
       "<style scoped>\n",
       "    .dataframe tbody tr th:only-of-type {\n",
       "        vertical-align: middle;\n",
       "    }\n",
       "\n",
       "    .dataframe tbody tr th {\n",
       "        vertical-align: top;\n",
       "    }\n",
       "\n",
       "    .dataframe thead th {\n",
       "        text-align: right;\n",
       "    }\n",
       "</style>\n",
       "<table border=\"1\" class=\"dataframe\">\n",
       "  <thead>\n",
       "    <tr style=\"text-align: right;\">\n",
       "      <th></th>\n",
       "      <th>createdDtm</th>\n",
       "      <th>modifiedDtm</th>\n",
       "      <th>unreadDtm</th>\n",
       "      <th>messageList.msgCreatedDtm</th>\n",
       "      <th>messageList.body</th>\n",
       "    </tr>\n",
       "  </thead>\n",
       "  <tbody>\n",
       "    <tr>\n",
       "      <th>3772760</th>\n",
       "      <td>2021-01-19 23:44:31.419</td>\n",
       "      <td>2021-07-31 23:50:37.307</td>\n",
       "      <td>2021-07-31 23:18:13.305</td>\n",
       "      <td>2021-07-31 10:58:57.149</td>\n",
       "      <td>Liberty Mutual: How can I help you today? By t...</td>\n",
       "    </tr>\n",
       "    <tr>\n",
       "      <th>576557</th>\n",
       "      <td>2021-07-31 17:10:15.033</td>\n",
       "      <td>2021-08-01 16:33:48.595</td>\n",
       "      <td>2021-08-01 16:27:38.206</td>\n",
       "      <td>2021-07-31 17:14:13.665</td>\n",
       "      <td>This is a major and urgent concern</td>\n",
       "    </tr>\n",
       "    <tr>\n",
       "      <th>576558</th>\n",
       "      <td>2021-07-31 17:10:15.033</td>\n",
       "      <td>2021-08-01 16:33:48.595</td>\n",
       "      <td>2021-08-01 16:27:38.206</td>\n",
       "      <td>2021-07-31 17:14:52.642</td>\n",
       "      <td>My name is [name_removed]\\n[date_removed] [add...</td>\n",
       "    </tr>\n",
       "    <tr>\n",
       "      <th>576559</th>\n",
       "      <td>2021-07-31 17:10:15.033</td>\n",
       "      <td>2021-08-01 16:33:48.595</td>\n",
       "      <td>2021-08-01 16:27:38.206</td>\n",
       "      <td>2021-07-31 18:49:02.965</td>\n",
       "      <td>I been waiting for a while and no response</td>\n",
       "    </tr>\n",
       "    <tr>\n",
       "      <th>576561</th>\n",
       "      <td>2021-07-31 17:10:37.413</td>\n",
       "      <td>2021-07-31 17:11:28.287</td>\n",
       "      <td>2021-07-31 17:10:37.413</td>\n",
       "      <td>2021-07-31 17:10:37.710</td>\n",
       "      <td>Liberty Mutual: How can I help you today? By t...</td>\n",
       "    </tr>\n",
       "    <tr>\n",
       "      <th>576562</th>\n",
       "      <td>2021-07-31 17:10:37.413</td>\n",
       "      <td>2021-07-31 17:11:28.287</td>\n",
       "      <td>2021-07-31 17:10:37.413</td>\n",
       "      <td>2021-07-31 17:11:08.776</td>\n",
       "      <td>Are you a real person?</td>\n",
       "    </tr>\n",
       "    <tr>\n",
       "      <th>576563</th>\n",
       "      <td>2021-07-31 17:10:37.413</td>\n",
       "      <td>2021-07-31 17:11:28.287</td>\n",
       "      <td>2021-07-31 17:10:37.413</td>\n",
       "      <td>2021-07-31 17:11:11.419</td>\n",
       "      <td>Hi there! To help get you to the right place, ...</td>\n",
       "    </tr>\n",
       "    <tr>\n",
       "      <th>576564</th>\n",
       "      <td>2021-07-31 17:10:37.413</td>\n",
       "      <td>2021-07-31 17:11:28.287</td>\n",
       "      <td>2021-07-31 17:10:37.413</td>\n",
       "      <td>2021-07-31 17:11:27.160</td>\n",
       "      <td>4</td>\n",
       "    </tr>\n",
       "    <tr>\n",
       "      <th>576556</th>\n",
       "      <td>2021-07-31 17:10:15.033</td>\n",
       "      <td>2021-08-01 16:33:48.595</td>\n",
       "      <td>2021-08-01 16:27:38.206</td>\n",
       "      <td>2021-07-31 17:13:56.070</td>\n",
       "      <td>Thank you for your message! An agent will resp...</td>\n",
       "    </tr>\n",
       "    <tr>\n",
       "      <th>576565</th>\n",
       "      <td>2021-07-31 17:10:37.413</td>\n",
       "      <td>2021-07-31 17:11:28.287</td>\n",
       "      <td>2021-07-31 17:10:37.413</td>\n",
       "      <td>2021-07-31 17:11:28.107</td>\n",
       "      <td>Reporting a claim is now handled online at bit...</td>\n",
       "    </tr>\n",
       "  </tbody>\n",
       "</table>\n",
       "</div>"
      ],
      "text/plain": [
       "                     createdDtm             modifiedDtm  \\\n",
       "3772760 2021-01-19 23:44:31.419 2021-07-31 23:50:37.307   \n",
       "576557  2021-07-31 17:10:15.033 2021-08-01 16:33:48.595   \n",
       "576558  2021-07-31 17:10:15.033 2021-08-01 16:33:48.595   \n",
       "576559  2021-07-31 17:10:15.033 2021-08-01 16:33:48.595   \n",
       "576561  2021-07-31 17:10:37.413 2021-07-31 17:11:28.287   \n",
       "576562  2021-07-31 17:10:37.413 2021-07-31 17:11:28.287   \n",
       "576563  2021-07-31 17:10:37.413 2021-07-31 17:11:28.287   \n",
       "576564  2021-07-31 17:10:37.413 2021-07-31 17:11:28.287   \n",
       "576556  2021-07-31 17:10:15.033 2021-08-01 16:33:48.595   \n",
       "576565  2021-07-31 17:10:37.413 2021-07-31 17:11:28.287   \n",
       "\n",
       "                      unreadDtm messageList.msgCreatedDtm  \\\n",
       "3772760 2021-07-31 23:18:13.305   2021-07-31 10:58:57.149   \n",
       "576557  2021-08-01 16:27:38.206   2021-07-31 17:14:13.665   \n",
       "576558  2021-08-01 16:27:38.206   2021-07-31 17:14:52.642   \n",
       "576559  2021-08-01 16:27:38.206   2021-07-31 18:49:02.965   \n",
       "576561  2021-07-31 17:10:37.413   2021-07-31 17:10:37.710   \n",
       "576562  2021-07-31 17:10:37.413   2021-07-31 17:11:08.776   \n",
       "576563  2021-07-31 17:10:37.413   2021-07-31 17:11:11.419   \n",
       "576564  2021-07-31 17:10:37.413   2021-07-31 17:11:27.160   \n",
       "576556  2021-08-01 16:27:38.206   2021-07-31 17:13:56.070   \n",
       "576565  2021-07-31 17:10:37.413   2021-07-31 17:11:28.107   \n",
       "\n",
       "                                          messageList.body  \n",
       "3772760  Liberty Mutual: How can I help you today? By t...  \n",
       "576557                  This is a major and urgent concern  \n",
       "576558   My name is [name_removed]\\n[date_removed] [add...  \n",
       "576559          I been waiting for a while and no response  \n",
       "576561   Liberty Mutual: How can I help you today? By t...  \n",
       "576562                              Are you a real person?  \n",
       "576563   Hi there! To help get you to the right place, ...  \n",
       "576564                                                   4  \n",
       "576556   Thank you for your message! An agent will resp...  \n",
       "576565   Reporting a claim is now handled online at bit...  "
      ]
     },
     "execution_count": 130,
     "metadata": {},
     "output_type": "execute_result"
    }
   ],
   "source": [
    "service_df.sort_values(by='createdate').filter(['createdDtm', 'modifiedDtm', 'unreadDtm', 'messageList.msgCreatedDtm', 'messageList.body']).head(10)"
   ]
  },
  {
   "cell_type": "code",
   "execution_count": 201,
   "id": "6c1e44ed-d51f-4e88-b4ef-73e42018f580",
   "metadata": {},
   "outputs": [
    {
     "data": {
      "text/plain": [
       "datetime.date(2023, 3, 15)"
      ]
     },
     "execution_count": 201,
     "metadata": {},
     "output_type": "execute_result"
    }
   ],
   "source": [
    "day"
   ]
  },
  {
   "cell_type": "code",
   "execution_count": 200,
   "id": "9fad04a7-3bec-48a7-9176-9bc75f1ed2f8",
   "metadata": {},
   "outputs": [
    {
     "name": "stdout",
     "output_type": "stream",
     "text": [
      "2019 (133624, 43)\n",
      "1 (8924, 43)\n",
      "2 (5896, 43)\n",
      "3 (7162, 43)\n",
      "4 (7798, 43)\n",
      "5 (7876, 43)\n",
      "6 (8236, 43)\n",
      "7 (11542, 43)\n",
      "8 (7973, 43)\n",
      "9 (14536, 43)\n",
      "10 (19425, 43)\n",
      "11 (15004, 43)\n",
      "12 (19252, 43)\n",
      "2020 (1954399, 43)\n",
      "1 (39638, 43)\n",
      "2 (26349, 43)\n",
      "3 (65334, 43)\n",
      "4 (101659, 43)\n",
      "5 (81957, 43)\n",
      "6 (92748, 43)\n",
      "7 (142479, 43)\n",
      "8 (181697, 43)\n",
      "9 (238351, 43)\n",
      "10 (276606, 43)\n",
      "11 (252630, 43)\n",
      "12 (454951, 43)\n",
      "2021 (6759419, 43)\n",
      "1 (652743, 43)\n",
      "2 (597266, 43)\n",
      "3 (672354, 43)\n",
      "4 (566627, 43)\n",
      "5 (544604, 43)\n",
      "6 (596826, 43)\n",
      "7 (567796, 43)\n",
      "8 (588986, 43)\n",
      "9 (511882, 43)\n",
      "10 (506916, 43)\n",
      "11 (499240, 43)\n",
      "12 (454179, 43)\n",
      "2022 (4741758, 43)\n",
      "1 (492743, 43)\n",
      "2 (422358, 43)\n",
      "3 (508519, 43)\n",
      "4 (433965, 43)\n",
      "5 (403963, 43)\n",
      "6 (378835, 43)\n",
      "7 (334548, 43)\n",
      "8 (416757, 43)\n",
      "9 (362445, 43)\n",
      "10 (352415, 43)\n",
      "11 (312843, 43)\n",
      "12 (322367, 43)\n",
      "2023 (935069, 43)\n",
      "1 (347021, 43)\n",
      "2 (309488, 43)\n",
      "3 (278560, 43)\n"
     ]
    }
   ],
   "source": [
    "for yr in sorted(service_df['year'].unique()):\n",
    "    year_df = service_df[service_df['year'].isin([yr])]\n",
    "    print(yr, year_df.shape)\n",
    "    for mt in sorted(year_df['month'].unique()):\n",
    "        month_df = year_df[year_df['month'].isin([mt])]\n",
    "        print(mt, month_df.shape)\n",
    "        newpath = f'../lm_project/2way_sms/2way_sms_data_for_mit/anonymized_sms_data/Service/parquet/{yr}-{mt}'\n",
    "        if not os.path.exists(newpath):\n",
    "            os.makedirs(newpath)\n",
    "        for day in month_df['createdate'].unique():\n",
    "            day_df = month_df[month_df['createdate']==day].reset_index(drop=True)\n",
    "            day_df = day_df.drop(columns=['createdate', 'year', 'month'])\n",
    "            day_df.to_parquet(f'../lm_project/2way_sms/2way_sms_data_for_mit/anonymized_sms_data/Service/parquet/{yr}-{mt}/{str(day)}.parquet')"
   ]
  },
  {
   "cell_type": "code",
   "execution_count": null,
   "id": "7e9019c2-3eab-44f2-86fa-c41c129eef15",
   "metadata": {},
   "outputs": [],
   "source": []
  }
 ],
 "metadata": {
  "kernelspec": {
   "display_name": "Cortex-Python3.8",
   "language": "python",
   "name": "cortex-python3.8"
  },
  "language_info": {
   "codemirror_mode": {
    "name": "ipython",
    "version": 3
   },
   "file_extension": ".py",
   "mimetype": "text/x-python",
   "name": "python",
   "nbconvert_exporter": "python",
   "pygments_lexer": "ipython3",
   "version": "3.8.15"
  }
 },
 "nbformat": 4,
 "nbformat_minor": 5
}
