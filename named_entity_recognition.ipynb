{
 "cells": [
  {
   "cell_type": "markdown",
   "id": "58d7ba3e-02eb-44a2-b218-34a3be49d72b",
   "metadata": {},
   "source": [
    "## Check named entities\n",
    "Name; Email; Address; Phone number; URL; Date and time; Numbers (Phone numbers, Policy numbers, Zip code)"
   ]
  },
  {
   "cell_type": "code",
   "execution_count": 68,
   "id": "ecfafd02-3a41-4424-9e00-4049f0698f05",
   "metadata": {},
   "outputs": [
    {
     "name": "stdout",
     "output_type": "stream",
     "text": [
      "The autoreload extension is already loaded. To reload it, use:\n",
      "  %reload_ext autoreload\n"
     ]
    }
   ],
   "source": [
    "%load_ext autoreload\n",
    "%autoreload 2\n",
    "\n",
    "import sys\n",
    "sys.path.append(\"anonymization\")\n",
    "import re\n",
    "\n",
    "from anonymization.Anonymization import Anonymization, AnonymizerChain\n",
    "from anonymization.anonymizers import EmailAnonymizer, NamedEntitiesAnonymizer, PhoneNumberAnonymizer, UriAnonymizer, DateAnonymizer, MacAddressAnonymizer, CreditCardAnonymizer, IbanAnonymizer, SignatureAnonymizer, NumberAnonymizer\n",
    "from collections import defaultdict"
   ]
  },
  {
   "cell_type": "code",
   "execution_count": 34,
   "id": "2d9e5a7b-d2fe-42ee-aa82-fcfc80c775f8",
   "metadata": {},
   "outputs": [
    {
     "data": {
      "text/plain": [
       "(<function anonymization.anonymizers.spacyAnonymizers.NamedEntitiesAnonymizer.<locals>.<lambda>(anonymization)>,)"
      ]
     },
     "execution_count": 34,
     "metadata": {},
     "output_type": "execute_result"
    }
   ],
   "source": [
    "NamedEntitiesAnonymizer('en_core_web_lg'), "
   ]
  },
  {
   "cell_type": "code",
   "execution_count": 69,
   "id": "a09e0d98-d040-443a-93a1-d0bcabdfc6f6",
   "metadata": {},
   "outputs": [
    {
     "name": "stdout",
     "output_type": "stream",
     "text": [
      "Hello I am Steve Curry, here is my email steve.curry@gmail.com. My address is 10 Greenwood St., Los Angeles, CA 01234. My number is 6178424332. I will arrive in Boston on 04/23/2023. My credit card number is 1232-3343-3443-4343. My medical information is SP32343232343433 and health insurance is 9SP00254099. My password is LM@MX1323223. My TPI is 932-71-3232. I can help you today, it will take hours to finish and is supposed to be done by 05/13/2023.\n"
     ]
    }
   ],
   "source": [
    "text = 'Hello Allen can you send the documents to Mengkai.Xu@libertymutual.com? My phone number is 6178607353, DOB is 09/02/1990. Address is 10 Overlook Ridge, Malden, MA 02148. \\\n",
    "My personal website is https://iyf.tv/. Here is my policy ## 1232343123232. Name driver license number is S39273383. My social security number is 822-32-5434. My TPI is 932-71-3232. \\\n",
    "Emily please let me know if 03/23/2023 works for you.'\n",
    "\n",
    "# This example covers all possible entities and listed info from Katie\n",
    "text1 = 'Hello I am Steve Curry, here is my email steve.curry@gmail.com. My address is 10 Greenwood St., Los Angeles, CA 01234. My number is 6178424332. I will arrive in Boston \\\n",
    "on 04/23/2023. My credit card number is 1232-3343-3443-4343. My medical information is SP32343232343433 and health insurance is 9SP00254099. My password is LM@MX1323223. My TPI is 932-71-3232. \\\n",
    "I can help you today, it will take hours to finish and is supposed to be done by 05/13/2023.'\n",
    "\n",
    "text2 = \"That's correct. The policy was canceled effective 4/3/2022. Here is my social 933-42-1212.\"\n",
    "print(text1)"
   ]
  },
  {
   "cell_type": "code",
   "execution_count": 70,
   "id": "ae8c8793-588d-4f86-857f-a36c2bd35c75",
   "metadata": {},
   "outputs": [],
   "source": [
    "anon = AnonymizerChain(Anonymization('en_US'))\n",
    "anon.add_anonymizers(EmailAnonymizer, PhoneNumberAnonymizer, UriAnonymizer, DateAnonymizer, CreditCardAnonymizer, IbanAnonymizer, NamedEntitiesAnonymizer('en_core_web_lg'), NumberAnonymizer)"
   ]
  },
  {
   "cell_type": "code",
   "execution_count": 72,
   "id": "a8e97b7e-5680-4cb4-aa28-9d179c027e47",
   "metadata": {},
   "outputs": [
    {
     "name": "stdout",
     "output_type": "stream",
     "text": [
      "Hello I am [name_removed], here is my email [email_removed]. My address is [number_removed] [address_removed], [address_removed], [address_removed] [number_removed]. My number is [number_removed]. I will arrive in [address_removed] on [name_removed]. My credit card number is [number_removed]. My medical information is [number_removed]and health insurance is [date_removed]. My password is LM@[number_removed]. My TPI is [number_removed]-[number_removed]-[number_removed]. I can help you today, it will take hours to finish and is supposed to be done by [number_removed]/[number_removed]/[number_removed].\n"
     ]
    }
   ],
   "source": [
    "# %%time\n",
    "post_text = anon.anonymize(text1)\n",
    "print(post_text)"
   ]
  },
  {
   "cell_type": "code",
   "execution_count": 161,
   "id": "842ffaaf-f15c-4b05-b119-edc4ba01d22a",
   "metadata": {},
   "outputs": [
    {
     "data": {
      "text/plain": [
       "'Hello [name_removed] can you send the documents to [email_removed]? My phone number is [number_removed], DOB is [date_removed]. Address is [number_removed] [address_removed], [address_removed], MA [number_mx]. My personal website is [uri_removed] Here is my policy [number_removed]. Name driver license number is [number_mx]. My social security number is [number_removed]-[number_mx]-[number_mx]. My TPI is [number_removed]-[number_mx]-[number_mx]. [name_removed] please let me what if [number_mx]/[number_mx]/[number_mx]works for you.'"
      ]
     },
     "execution_count": 161,
     "metadata": {},
     "output_type": "execute_result"
    }
   ],
   "source": [
    "# subject = \"I am still 434343\"\n",
    "result = re.sub(\n",
    "    r\"\"\"(?x) # verbose regex\n",
    "    \\b    # Start of word\n",
    "    (?=   # Look ahead to ensure that this word contains...\n",
    "     \\w*  # (after any number of alphanumeric characters)\n",
    "     \\d   # ...at least one digit.\n",
    "    )     # End of lookahead\n",
    "    \\w+   # Match the alphanumeric word\n",
    "    \\s*   # Match any following whitespace\"\"\", \n",
    "    \"[number_mx]\", subject)\n",
    "result"
   ]
  },
  {
   "cell_type": "markdown",
   "id": "47fb5671-323b-4b20-abfe-51ba21c27aeb",
   "metadata": {},
   "source": [
    "## Test section\n",
    "#### Test spaCy normalization: NamedEntitiesAnonymizer"
   ]
  },
  {
   "cell_type": "code",
   "execution_count": 5,
   "id": "f194658c-acc0-4d4f-aaa8-455f03237906",
   "metadata": {},
   "outputs": [],
   "source": [
    "import spacy\n",
    "processor = spacy.load(\"en_core_web_lg\")"
   ]
  },
  {
   "cell_type": "code",
   "execution_count": 6,
   "id": "45f9e94d-d8b4-4049-ac36-124af2ce810b",
   "metadata": {},
   "outputs": [
    {
     "name": "stdout",
     "output_type": "stream",
     "text": [
      "Hello Allen can you send the documents to [email_removed]? My phone number is [phone_number_removed], DOB is 09/02/1990. Address is 10 Overlook Ridge, Malden, MA 02148. My personal website is [uri_removed] Here is my policy ## 1232343123232. I am twenty five\n",
      "['Allen', 'DOB', '09/02/1990', '10', 'Overlook Ridge', 'Malden', '## 1232343123232', 'twenty five'] ['PERSON', 'ORG', 'DATE', 'CARDINAL', 'GPE', 'GPE', 'MONEY', 'CARDINAL']\n"
     ]
    }
   ],
   "source": [
    "text = 'Hello Allen can you send the documents to [email_removed]? My phone number is [phone_number_removed], DOB is 09/02/1990. Address is 10 Overlook Ridge, Malden, MA 02148. \\\n",
    "My personal website is [uri_removed] Here is my policy ## 1232343123232. I am twenty five'\n",
    "doc = processor(text)\n",
    "print(doc)\n",
    "# remove whitespace entities and trim the entities\n",
    "ents = [ent.text.strip() for ent in doc.ents if not ent.text.isspace()]\n",
    "labels = [ent.label_ for ent in doc.ents if not ent.text.isspace()] # Refer to difference labels here https://www.kaggle.com/code/curiousprogrammer/entity-extraction-and-classification-using-spacy\n",
    "print(ents, labels)"
   ]
  },
  {
   "cell_type": "code",
   "execution_count": 140,
   "id": "91efe75a-3278-4f8c-8779-31d952fd98d1",
   "metadata": {},
   "outputs": [
    {
     "data": {
      "text/plain": [
       "tuple"
      ]
     },
     "execution_count": 140,
     "metadata": {},
     "output_type": "execute_result"
    }
   ],
   "source": [
    "doc.ents"
   ]
  },
  {
   "cell_type": "markdown",
   "id": "4293c3ed-dc93-4ed1-95cd-b4aae318cbe2",
   "metadata": {},
   "source": [
    "#### Test fake module"
   ]
  },
  {
   "cell_type": "code",
   "execution_count": 13,
   "id": "db7956c1-1b09-4d60-b1b1-c23c4fbc2111",
   "metadata": {},
   "outputs": [],
   "source": [
    "from collections import defaultdict\n",
    "from faker import Factory\n",
    "import time\n",
    "anonDicts = {}\n",
    "faker = Factory.create('en_US')\n",
    "\n",
    "def getFake(provider: str, match: str) -> str:\n",
    "    '''\n",
    "    Return the fake equivalent of match using a Faker provider\n",
    "\n",
    "    Example:\n",
    "            getFake(provider=\"date\", match=\"09/02/1990\") -> \"2023-01-06\"        \n",
    "    '''\n",
    "    print(anonDicts, provider)\n",
    "    if not provider in anonDicts:\n",
    "        anonDicts[provider] = defaultdict(getattr(faker, provider))\n",
    "        a = getattr(faker, provider)\n",
    "        anonDicts['test'] = defaultdict(a)\n",
    "    \n",
    "    print(anonDicts, anonDicts[provider][match], anonDicts['test'][match])\n",
    "    print(anonDicts['test'][match])\n",
    "    return anonDicts, anonDicts[provider][match]"
   ]
  },
  {
   "cell_type": "code",
   "execution_count": 14,
   "id": "7ec424ea-7cef-4524-9d52-470bf28c38e8",
   "metadata": {},
   "outputs": [
    {
     "name": "stdout",
     "output_type": "stream",
     "text": [
      "{} date\n",
      "{'date': defaultdict(<bound method Provider.date of <faker.providers.date_time.en_US.Provider object at 0x7f43e5de2880>>, {'PERSON': '2022-05-25'}), 'test': defaultdict(<bound method Provider.date of <faker.providers.date_time.en_US.Provider object at 0x7f43e5de2880>>, {'PERSON': '1983-09-17'})} 2022-05-25 1983-09-17\n",
      "1983-09-17\n"
     ]
    }
   ],
   "source": [
    "dic, string = getFake('date', 'PERSON')"
   ]
  },
  {
   "cell_type": "code",
   "execution_count": null,
   "id": "035b6902-6ce3-4567-86e6-1d1714afebf0",
   "metadata": {},
   "outputs": [],
   "source": [
    "dir(fake)"
   ]
  },
  {
   "cell_type": "code",
   "execution_count": 73,
   "id": "63a2bb2a-caa4-4e86-9fa7-91eda977803d",
   "metadata": {},
   "outputs": [],
   "source": [
    "import pandas as pd"
   ]
  },
  {
   "cell_type": "code",
   "execution_count": 74,
   "id": "380c909e-1d1a-4a5c-8267-e486f8f07003",
   "metadata": {},
   "outputs": [],
   "source": [
    "class TextMask:\n",
    "    \n",
    "    def __init__(self, anonymizers: list):\n",
    "        self.anon = AnonymizerChain(Anonymization('en_US'))\n",
    "        for ano in anonymizers:\n",
    "            self.anon.add_anonymizers(ano)\n",
    "            \n",
    "    def anonymize(self, text: str):\n",
    "        return self.anon.anonymize(text)\n",
    "    \n",
    "anonymizers = [EmailAnonymizer, PhoneNumberAnonymizer, UriAnonymizer, DateAnonymizer, CreditCardAnonymizer, IbanAnonymizer, NamedEntitiesAnonymizer('en_core_web_lg'), NumberAnonymizer]\n",
    "anon = TextMask(anonymizers)"
   ]
  },
  {
   "cell_type": "code",
   "execution_count": 75,
   "id": "821da246-2d4a-402c-b9f4-627208c6f8e2",
   "metadata": {},
   "outputs": [],
   "source": [
    "df = pd.read_csv('anonymization_test_data.csv')[['messageList.body']]"
   ]
  },
  {
   "cell_type": "code",
   "execution_count": 76,
   "id": "95e2b4b4-1173-4a5e-95ae-caff0d48fcb8",
   "metadata": {},
   "outputs": [
    {
     "name": "stdout",
     "output_type": "stream",
     "text": [
      "(50,)\n"
     ]
    },
    {
     "data": {
      "text/html": [
       "<div>\n",
       "<style scoped>\n",
       "    .dataframe tbody tr th:only-of-type {\n",
       "        vertical-align: middle;\n",
       "    }\n",
       "\n",
       "    .dataframe tbody tr th {\n",
       "        vertical-align: top;\n",
       "    }\n",
       "\n",
       "    .dataframe thead th {\n",
       "        text-align: right;\n",
       "    }\n",
       "</style>\n",
       "<table border=\"1\" class=\"dataframe\">\n",
       "  <thead>\n",
       "    <tr style=\"text-align: right;\">\n",
       "      <th></th>\n",
       "      <th>messageList.body</th>\n",
       "    </tr>\n",
       "  </thead>\n",
       "  <tbody>\n",
       "    <tr>\n",
       "      <th>0</th>\n",
       "      <td>Hello, I regret to hear you are looking to can...</td>\n",
       "    </tr>\n",
       "    <tr>\n",
       "      <th>1</th>\n",
       "      <td>5</td>\n",
       "    </tr>\n",
       "    <tr>\n",
       "      <th>2</th>\n",
       "      <td>You would want to pay at lease the past due am...</td>\n",
       "    </tr>\n",
       "    <tr>\n",
       "      <th>3</th>\n",
       "      <td>Maine</td>\n",
       "    </tr>\n",
       "    <tr>\n",
       "      <th>4</th>\n",
       "      <td>We do not process payments on the weekend. Whe...</td>\n",
       "    </tr>\n",
       "    <tr>\n",
       "      <th>5</th>\n",
       "      <td>Liberty Mutual: How can I help you today? By t...</td>\n",
       "    </tr>\n",
       "    <tr>\n",
       "      <th>6</th>\n",
       "      <td>Hi there! To help get you to the right place, ...</td>\n",
       "    </tr>\n",
       "    <tr>\n",
       "      <th>7</th>\n",
       "      <td>Text us your customer e questions here! No tha...</td>\n",
       "    </tr>\n",
       "    <tr>\n",
       "      <th>8</th>\n",
       "      <td>782 at the end not 182</td>\n",
       "    </tr>\n",
       "    <tr>\n",
       "      <th>9</th>\n",
       "      <td>Thank you for texting! For future needs, pleas...</td>\n",
       "    </tr>\n",
       "  </tbody>\n",
       "</table>\n",
       "</div>"
      ],
      "text/plain": [
       "                                    messageList.body\n",
       "0  Hello, I regret to hear you are looking to can...\n",
       "1                                                  5\n",
       "2  You would want to pay at lease the past due am...\n",
       "3                                              Maine\n",
       "4  We do not process payments on the weekend. Whe...\n",
       "5  Liberty Mutual: How can I help you today? By t...\n",
       "6  Hi there! To help get you to the right place, ...\n",
       "7  Text us your customer e questions here! No tha...\n",
       "8                             782 at the end not 182\n",
       "9  Thank you for texting! For future needs, pleas..."
      ]
     },
     "execution_count": 76,
     "metadata": {},
     "output_type": "execute_result"
    }
   ],
   "source": [
    "print(df['messageList.body'].shape)\n",
    "df.head(10)"
   ]
  },
  {
   "cell_type": "code",
   "execution_count": 77,
   "id": "984aef7c-6a73-44cb-94ed-9ea0b1588a7c",
   "metadata": {},
   "outputs": [
    {
     "data": {
      "text/plain": [
       "(37,)"
      ]
     },
     "execution_count": 77,
     "metadata": {},
     "output_type": "execute_result"
    }
   ],
   "source": [
    "df['messageList.body'].unique().shape"
   ]
  },
  {
   "cell_type": "code",
   "execution_count": 78,
   "id": "19561e9a-1bb7-4f16-a2d7-311886ddc298",
   "metadata": {},
   "outputs": [],
   "source": [
    "df = pd.DataFrame({'original': df['messageList.body'].unique()})"
   ]
  },
  {
   "cell_type": "code",
   "execution_count": 79,
   "id": "74369955-39b2-4b58-952a-10fa42fdf338",
   "metadata": {},
   "outputs": [],
   "source": [
    "df['anonymized'] = df['original'].apply(lambda x: anon.anonymize(x))"
   ]
  },
  {
   "cell_type": "code",
   "execution_count": 80,
   "id": "27fdc849-d425-4c75-93d7-aabb2e735f64",
   "metadata": {},
   "outputs": [],
   "source": [
    "df.to_csv('anonymized_test_data.csv', index=False)"
   ]
  },
  {
   "cell_type": "code",
   "execution_count": 81,
   "id": "707fd144-93da-4c03-bfc7-67fe6beec1eb",
   "metadata": {},
   "outputs": [
    {
     "data": {
      "text/plain": [
       "True"
      ]
     },
     "execution_count": 81,
     "metadata": {},
     "output_type": "execute_result"
    }
   ],
   "source": [
    "def has_numbers(inputString):\n",
    "    return any(char.isdigit() for char in inputString)\n",
    "not has_numbers(\"hour\")"
   ]
  },
  {
   "cell_type": "code",
   "execution_count": null,
   "id": "c6ba2f3f-33ac-4607-a3fb-05d55f2f6e72",
   "metadata": {},
   "outputs": [],
   "source": []
  }
 ],
 "metadata": {
  "kernelspec": {
   "display_name": "Cortex-Python3.8",
   "language": "python",
   "name": "cortex-python3.8"
  },
  "language_info": {
   "codemirror_mode": {
    "name": "ipython",
    "version": 3
   },
   "file_extension": ".py",
   "mimetype": "text/x-python",
   "name": "python",
   "nbconvert_exporter": "python",
   "pygments_lexer": "ipython3",
   "version": "3.8.15"
  }
 },
 "nbformat": 4,
 "nbformat_minor": 5
}
