{
 "cells": [
  {
   "cell_type": "markdown",
   "id": "58d7ba3e-02eb-44a2-b218-34a3be49d72b",
   "metadata": {},
   "source": [
    "## Check named entities\n",
    "Name; Email; Address; Phone number; URL; Date and time; Numbers (Phone numbers, Policy numbers, Zip code)"
   ]
  },
  {
   "cell_type": "code",
   "execution_count": 189,
   "id": "ecfafd02-3a41-4424-9e00-4049f0698f05",
   "metadata": {},
   "outputs": [
    {
     "name": "stdout",
     "output_type": "stream",
     "text": [
      "The autoreload extension is already loaded. To reload it, use:\n",
      "  %reload_ext autoreload\n"
     ]
    }
   ],
   "source": [
    "%load_ext autoreload\n",
    "%autoreload 2\n",
    "\n",
    "import sys\n",
    "sys.path.append(\"anonymization\")\n",
    "import re\n",
    "\n",
    "from anonymization.Anonymization import Anonymization, AnonymizerChain\n",
    "from anonymization.anonymizers import EmailAnonymizer, NamedEntitiesAnonymizer, PhoneNumberAnonymizer, UriAnonymizer, DateAnonymizer, MacAddressAnonymizer, CreditCardAnonymizer, IbanAnonymizer, SignatureAnonymizer, NumberAnonymizer\n",
    "from collections import defaultdict"
   ]
  },
  {
   "cell_type": "code",
   "execution_count": 34,
   "id": "2d9e5a7b-d2fe-42ee-aa82-fcfc80c775f8",
   "metadata": {},
   "outputs": [
    {
     "data": {
      "text/plain": [
       "(<function anonymization.anonymizers.spacyAnonymizers.NamedEntitiesAnonymizer.<locals>.<lambda>(anonymization)>,)"
      ]
     },
     "execution_count": 34,
     "metadata": {},
     "output_type": "execute_result"
    }
   ],
   "source": [
    "NamedEntitiesAnonymizer('en_core_web_lg'), "
   ]
  },
  {
   "cell_type": "code",
   "execution_count": 186,
   "id": "a09e0d98-d040-443a-93a1-d0bcabdfc6f6",
   "metadata": {},
   "outputs": [
    {
     "name": "stdout",
     "output_type": "stream",
     "text": [
      "Hello Allen can you send the documents to Mengkai.Xu@libertymutual.com? My phone number is 6178607353, DOB is 09/02/1990. Address is 10 Overlook Ridge, Malden, MA 02148. My personal website is https://iyf.tv/. Here is my policy ## 1232343123232. Name driver license number is S39273383. My social security number is 822-32-5434. My TPI is 932-71-3232. Emily please let me know if 03/23/2023 works for you.\n"
     ]
    }
   ],
   "source": [
    "text = 'Hello Allen can you send the documents to Mengkai.Xu@libertymutual.com? My phone number is 6178607353, DOB is 09/02/1990. Address is 10 Overlook Ridge, Malden, MA 02148. \\\n",
    "My personal website is https://iyf.tv/. Here is my policy ## 1232343123232. Name driver license number is S39273383. My social security number is 822-32-5434. My TPI is 932-71-3232. \\\n",
    "Emily please let me know if 03/23/2023 works for you.'\n",
    "\n",
    "# This example covers all possible entities and listed info from Katie\n",
    "text1 = 'Hello I am Steve Curry, here is my email steve.curry@gmail.com. My address is 10 Greenwood St., Los Angeles, CA 01234. My number is 6178424332. I will arrive in Boston \\\n",
    "on 04/23/2023. My credit card number is 1232-3343-3443-4343. My medical information is SP32343232343433 and health insurance is 9SP00254099. My password is LM@MX1323223. My TPI is 932-71-3232.'\n",
    "\n",
    "text2 = \"That's correct. The policy was canceled effective 4/3/2022.\"\n",
    "print(text)"
   ]
  },
  {
   "cell_type": "code",
   "execution_count": 194,
   "id": "ae8c8793-588d-4f86-857f-a36c2bd35c75",
   "metadata": {},
   "outputs": [],
   "source": [
    "anon = AnonymizerChain(Anonymization('en_US'))\n",
    "anon.add_anonymizers(EmailAnonymizer, PhoneNumberAnonymizer, UriAnonymizer, DateAnonymizer, CreditCardAnonymizer, IbanAnonymizer, NamedEntitiesAnonymizer('en_core_web_lg'), NumberAnonymizer)"
   ]
  },
  {
   "cell_type": "code",
   "execution_count": 195,
   "id": "a8e97b7e-5680-4cb4-aa28-9d179c027e47",
   "metadata": {},
   "outputs": [
    {
     "name": "stdout",
     "output_type": "stream",
     "text": [
      "email - steve.curry@gmail.com\n",
      "phone_number - 6178424332\n",
      "['Steve Curry', '10', 'Greenwood St.', 'Los Angeles', 'CA', 'Boston', '04/23/2023', '1232-3343-3443-4343', 'SP32343232343433', '9SP00254099', 'LM@MX1323223', 'TPI', '932']\n",
      "['PERSON', 'CARDINAL', 'GPE', 'GPE', 'GPE', 'GPE', 'PERSON', 'CARDINAL', 'PRODUCT', 'DATE', 'ORG', 'ORG', 'CARDINAL']\n",
      "name - Steve Curry\n",
      "random_number - 10\n",
      "address - Greenwood St.\n",
      "address - Los Angeles\n",
      "address - CA\n",
      "address - Boston\n",
      "name - 04/23/2023\n",
      "random_number - 1232-3343-3443-4343\n",
      "date - 9SP00254099\n",
      "random_number - 932\n",
      "random_number - 01234\n",
      "random_number - SP32343232343433 \n",
      "random_number - MX1323223\n",
      "random_number - 71\n",
      "random_number - 3232\n",
      "Hello I am [name_removed], here is my email [email_removed]. My address is [number_removed] [address_removed], [address_removed], [address_removed] [number_removed]. My number is [number_removed]. I will arrive in [address_removed] on [name_removed]. My credit card number is [number_removed]. My medical information is [number_removed]and health insurance is [date_removed]. My password is LM@[number_removed]. My TPI is [number_removed]-[number_removed]-[number_removed].\n"
     ]
    }
   ],
   "source": [
    "# %%time\n",
    "post_text = anon.anonymize(text1)\n",
    "print(post_text)"
   ]
  },
  {
   "cell_type": "code",
   "execution_count": 159,
   "id": "75c131de-2abd-4ce8-afa6-49267abfe9e8",
   "metadata": {},
   "outputs": [],
   "source": [
    "subject = 'Hello [name_removed] can you send the documents to [email_removed]? My phone number is [number_removed], DOB is [date_removed]. Address is [number_removed] [address_removed], [address_removed], MA 02148. My personal website is [uri_removed] Here is my policy [number_removed]. Name driver license number is S39273383. My social security number is [number_removed]-32-5434. My TPI is [number_removed]-71-3232. [name_removed] please let me what if 03/23/2023 works for you.'"
   ]
  },
  {
   "cell_type": "code",
   "execution_count": 161,
   "id": "842ffaaf-f15c-4b05-b119-edc4ba01d22a",
   "metadata": {},
   "outputs": [
    {
     "data": {
      "text/plain": [
       "'Hello [name_removed] can you send the documents to [email_removed]? My phone number is [number_removed], DOB is [date_removed]. Address is [number_removed] [address_removed], [address_removed], MA [number_mx]. My personal website is [uri_removed] Here is my policy [number_removed]. Name driver license number is [number_mx]. My social security number is [number_removed]-[number_mx]-[number_mx]. My TPI is [number_removed]-[number_mx]-[number_mx]. [name_removed] please let me what if [number_mx]/[number_mx]/[number_mx]works for you.'"
      ]
     },
     "execution_count": 161,
     "metadata": {},
     "output_type": "execute_result"
    }
   ],
   "source": [
    "# subject = \"I am still 434343\"\n",
    "result = re.sub(\n",
    "    r\"\"\"(?x) # verbose regex\n",
    "    \\b    # Start of word\n",
    "    (?=   # Look ahead to ensure that this word contains...\n",
    "     \\w*  # (after any number of alphanumeric characters)\n",
    "     \\d   # ...at least one digit.\n",
    "    )     # End of lookahead\n",
    "    \\w+   # Match the alphanumeric word\n",
    "    \\s*   # Match any following whitespace\"\"\", \n",
    "    \"[number_mx]\", subject)\n",
    "result"
   ]
  },
  {
   "cell_type": "markdown",
   "id": "47fb5671-323b-4b20-abfe-51ba21c27aeb",
   "metadata": {},
   "source": [
    "## Test section\n",
    "#### Test spaCy normalization: NamedEntitiesAnonymizer"
   ]
  },
  {
   "cell_type": "code",
   "execution_count": 5,
   "id": "f194658c-acc0-4d4f-aaa8-455f03237906",
   "metadata": {},
   "outputs": [],
   "source": [
    "import spacy\n",
    "processor = spacy.load(\"en_core_web_lg\")"
   ]
  },
  {
   "cell_type": "code",
   "execution_count": 6,
   "id": "45f9e94d-d8b4-4049-ac36-124af2ce810b",
   "metadata": {},
   "outputs": [
    {
     "name": "stdout",
     "output_type": "stream",
     "text": [
      "Hello Allen can you send the documents to [email_removed]? My phone number is [phone_number_removed], DOB is 09/02/1990. Address is 10 Overlook Ridge, Malden, MA 02148. My personal website is [uri_removed] Here is my policy ## 1232343123232. I am twenty five\n",
      "['Allen', 'DOB', '09/02/1990', '10', 'Overlook Ridge', 'Malden', '## 1232343123232', 'twenty five'] ['PERSON', 'ORG', 'DATE', 'CARDINAL', 'GPE', 'GPE', 'MONEY', 'CARDINAL']\n"
     ]
    }
   ],
   "source": [
    "text = 'Hello Allen can you send the documents to [email_removed]? My phone number is [phone_number_removed], DOB is 09/02/1990. Address is 10 Overlook Ridge, Malden, MA 02148. \\\n",
    "My personal website is [uri_removed] Here is my policy ## 1232343123232. I am twenty five'\n",
    "doc = processor(text)\n",
    "print(doc)\n",
    "# remove whitespace entities and trim the entities\n",
    "ents = [ent.text.strip() for ent in doc.ents if not ent.text.isspace()]\n",
    "labels = [ent.label_ for ent in doc.ents if not ent.text.isspace()] # Refer to difference labels here https://www.kaggle.com/code/curiousprogrammer/entity-extraction-and-classification-using-spacy\n",
    "print(ents, labels)"
   ]
  },
  {
   "cell_type": "code",
   "execution_count": 140,
   "id": "91efe75a-3278-4f8c-8779-31d952fd98d1",
   "metadata": {},
   "outputs": [
    {
     "data": {
      "text/plain": [
       "tuple"
      ]
     },
     "execution_count": 140,
     "metadata": {},
     "output_type": "execute_result"
    }
   ],
   "source": [
    "doc.ents"
   ]
  },
  {
   "cell_type": "markdown",
   "id": "4293c3ed-dc93-4ed1-95cd-b4aae318cbe2",
   "metadata": {},
   "source": [
    "#### Test fake module"
   ]
  },
  {
   "cell_type": "code",
   "execution_count": 13,
   "id": "db7956c1-1b09-4d60-b1b1-c23c4fbc2111",
   "metadata": {},
   "outputs": [],
   "source": [
    "from collections import defaultdict\n",
    "from faker import Factory\n",
    "import time\n",
    "anonDicts = {}\n",
    "faker = Factory.create('en_US')\n",
    "\n",
    "def getFake(provider: str, match: str) -> str:\n",
    "    '''\n",
    "    Return the fake equivalent of match using a Faker provider\n",
    "\n",
    "    Example:\n",
    "            getFake(provider=\"date\", match=\"09/02/1990\") -> \"2023-01-06\"        \n",
    "    '''\n",
    "    print(anonDicts, provider)\n",
    "    if not provider in anonDicts:\n",
    "        anonDicts[provider] = defaultdict(getattr(faker, provider))\n",
    "        a = getattr(faker, provider)\n",
    "        anonDicts['test'] = defaultdict(a)\n",
    "    \n",
    "    print(anonDicts, anonDicts[provider][match], anonDicts['test'][match])\n",
    "    print(anonDicts['test'][match])\n",
    "    return anonDicts, anonDicts[provider][match]"
   ]
  },
  {
   "cell_type": "code",
   "execution_count": 14,
   "id": "7ec424ea-7cef-4524-9d52-470bf28c38e8",
   "metadata": {},
   "outputs": [
    {
     "name": "stdout",
     "output_type": "stream",
     "text": [
      "{} date\n",
      "{'date': defaultdict(<bound method Provider.date of <faker.providers.date_time.en_US.Provider object at 0x7f43e5de2880>>, {'PERSON': '2022-05-25'}), 'test': defaultdict(<bound method Provider.date of <faker.providers.date_time.en_US.Provider object at 0x7f43e5de2880>>, {'PERSON': '1983-09-17'})} 2022-05-25 1983-09-17\n",
      "1983-09-17\n"
     ]
    }
   ],
   "source": [
    "dic, string = getFake('date', 'PERSON')"
   ]
  },
  {
   "cell_type": "code",
   "execution_count": 59,
   "id": "035b6902-6ce3-4567-86e6-1d1714afebf0",
   "metadata": {},
   "outputs": [
    {
     "data": {
      "text/plain": [
       "['_Generator__config',\n",
       " '_Generator__format_token',\n",
       " '_Generator__random',\n",
       " '__class__',\n",
       " '__delattr__',\n",
       " '__dict__',\n",
       " '__dir__',\n",
       " '__doc__',\n",
       " '__eq__',\n",
       " '__format__',\n",
       " '__ge__',\n",
       " '__getattribute__',\n",
       " '__gt__',\n",
       " '__hash__',\n",
       " '__init__',\n",
       " '__init_subclass__',\n",
       " '__le__',\n",
       " '__lt__',\n",
       " '__module__',\n",
       " '__ne__',\n",
       " '__new__',\n",
       " '__reduce__',\n",
       " '__reduce_ex__',\n",
       " '__repr__',\n",
       " '__setattr__',\n",
       " '__sizeof__',\n",
       " '__str__',\n",
       " '__subclasshook__',\n",
       " '__weakref__',\n",
       " 'add_provider',\n",
       " 'address',\n",
       " 'am_pm',\n",
       " 'ascii_company_email',\n",
       " 'ascii_email',\n",
       " 'ascii_free_email',\n",
       " 'ascii_safe_email',\n",
       " 'bank_country',\n",
       " 'bban',\n",
       " 'binary',\n",
       " 'boolean',\n",
       " 'bothify',\n",
       " 'bs',\n",
       " 'building_number',\n",
       " 'catch_phrase',\n",
       " 'century',\n",
       " 'chrome',\n",
       " 'city',\n",
       " 'city_prefix',\n",
       " 'city_suffix',\n",
       " 'color_name',\n",
       " 'company',\n",
       " 'company_email',\n",
       " 'company_suffix',\n",
       " 'coordinate',\n",
       " 'country',\n",
       " 'country_code',\n",
       " 'credit_card_expire',\n",
       " 'credit_card_full',\n",
       " 'credit_card_number',\n",
       " 'credit_card_provider',\n",
       " 'credit_card_security_code',\n",
       " 'cryptocurrency',\n",
       " 'cryptocurrency_code',\n",
       " 'cryptocurrency_name',\n",
       " 'currency',\n",
       " 'currency_code',\n",
       " 'currency_name',\n",
       " 'date',\n",
       " 'date_between',\n",
       " 'date_between_dates',\n",
       " 'date_object',\n",
       " 'date_of_birth',\n",
       " 'date_this_century',\n",
       " 'date_this_decade',\n",
       " 'date_this_month',\n",
       " 'date_this_year',\n",
       " 'date_time',\n",
       " 'date_time_ad',\n",
       " 'date_time_between',\n",
       " 'date_time_between_dates',\n",
       " 'date_time_this_century',\n",
       " 'date_time_this_decade',\n",
       " 'date_time_this_month',\n",
       " 'date_time_this_year',\n",
       " 'day_of_month',\n",
       " 'day_of_week',\n",
       " 'domain_name',\n",
       " 'domain_word',\n",
       " 'ean',\n",
       " 'ean13',\n",
       " 'ean8',\n",
       " 'ein',\n",
       " 'email',\n",
       " 'file_extension',\n",
       " 'file_name',\n",
       " 'file_path',\n",
       " 'firefox',\n",
       " 'first_name',\n",
       " 'first_name_female',\n",
       " 'first_name_male',\n",
       " 'format',\n",
       " 'free_email',\n",
       " 'free_email_domain',\n",
       " 'future_date',\n",
       " 'future_datetime',\n",
       " 'get_formatter',\n",
       " 'get_providers',\n",
       " 'hex_color',\n",
       " 'hexify',\n",
       " 'hostname',\n",
       " 'iban',\n",
       " 'image_url',\n",
       " 'internet_explorer',\n",
       " 'invalid_ssn',\n",
       " 'ipv4',\n",
       " 'ipv4_network_class',\n",
       " 'ipv4_private',\n",
       " 'ipv4_public',\n",
       " 'ipv6',\n",
       " 'isbn10',\n",
       " 'isbn13',\n",
       " 'iso8601',\n",
       " 'itin',\n",
       " 'job',\n",
       " 'language_code',\n",
       " 'last_name',\n",
       " 'last_name_female',\n",
       " 'last_name_male',\n",
       " 'latitude',\n",
       " 'latlng',\n",
       " 'lexify',\n",
       " 'license_plate',\n",
       " 'linux_platform_token',\n",
       " 'linux_processor',\n",
       " 'local_latlng',\n",
       " 'locale',\n",
       " 'location_on_land',\n",
       " 'longitude',\n",
       " 'mac_address',\n",
       " 'mac_platform_token',\n",
       " 'mac_processor',\n",
       " 'md5',\n",
       " 'military_apo',\n",
       " 'military_dpo',\n",
       " 'military_ship',\n",
       " 'military_state',\n",
       " 'mime_type',\n",
       " 'month',\n",
       " 'month_name',\n",
       " 'msisdn',\n",
       " 'name',\n",
       " 'name_female',\n",
       " 'name_male',\n",
       " 'null_boolean',\n",
       " 'numerify',\n",
       " 'opera',\n",
       " 'paragraph',\n",
       " 'paragraphs',\n",
       " 'parse',\n",
       " 'password',\n",
       " 'past_date',\n",
       " 'past_datetime',\n",
       " 'phone_number',\n",
       " 'postalcode',\n",
       " 'postalcode_in_state',\n",
       " 'postalcode_plus4',\n",
       " 'postcode',\n",
       " 'postcode_in_state',\n",
       " 'prefix',\n",
       " 'prefix_female',\n",
       " 'prefix_male',\n",
       " 'profile',\n",
       " 'provider',\n",
       " 'providers',\n",
       " 'pybool',\n",
       " 'pydecimal',\n",
       " 'pydict',\n",
       " 'pyfloat',\n",
       " 'pyint',\n",
       " 'pyiterable',\n",
       " 'pylist',\n",
       " 'pyset',\n",
       " 'pystr',\n",
       " 'pystruct',\n",
       " 'pytuple',\n",
       " 'random',\n",
       " 'random_choices',\n",
       " 'random_digit',\n",
       " 'random_digit_not_null',\n",
       " 'random_digit_not_null_or_empty',\n",
       " 'random_digit_or_empty',\n",
       " 'random_element',\n",
       " 'random_elements',\n",
       " 'random_int',\n",
       " 'random_letter',\n",
       " 'random_letters',\n",
       " 'random_lowercase_letter',\n",
       " 'random_number',\n",
       " 'random_sample',\n",
       " 'random_uppercase_letter',\n",
       " 'randomize_nb_elements',\n",
       " 'rgb_color',\n",
       " 'rgb_css_color',\n",
       " 'safari',\n",
       " 'safe_color_name',\n",
       " 'safe_email',\n",
       " 'safe_hex_color',\n",
       " 'secondary_address',\n",
       " 'seed',\n",
       " 'seed_instance',\n",
       " 'sentence',\n",
       " 'sentences',\n",
       " 'set_formatter',\n",
       " 'sha1',\n",
       " 'sha256',\n",
       " 'simple_profile',\n",
       " 'slug',\n",
       " 'ssn',\n",
       " 'state',\n",
       " 'state_abbr',\n",
       " 'street_address',\n",
       " 'street_name',\n",
       " 'street_suffix',\n",
       " 'suffix',\n",
       " 'suffix_female',\n",
       " 'suffix_male',\n",
       " 'text',\n",
       " 'texts',\n",
       " 'time',\n",
       " 'time_delta',\n",
       " 'time_object',\n",
       " 'time_series',\n",
       " 'timezone',\n",
       " 'tld',\n",
       " 'unix_device',\n",
       " 'unix_partition',\n",
       " 'unix_time',\n",
       " 'uri',\n",
       " 'uri_extension',\n",
       " 'uri_page',\n",
       " 'uri_path',\n",
       " 'url',\n",
       " 'user_agent',\n",
       " 'user_name',\n",
       " 'uuid4',\n",
       " 'windows_platform_token',\n",
       " 'word',\n",
       " 'words',\n",
       " 'year',\n",
       " 'zipcode',\n",
       " 'zipcode_in_state',\n",
       " 'zipcode_plus4']"
      ]
     },
     "execution_count": 59,
     "metadata": {},
     "output_type": "execute_result"
    }
   ],
   "source": [
    "dir(fake)"
   ]
  },
  {
   "cell_type": "code",
   "execution_count": 76,
   "id": "63a2bb2a-caa4-4e86-9fa7-91eda977803d",
   "metadata": {},
   "outputs": [],
   "source": [
    "import pandas as pd"
   ]
  },
  {
   "cell_type": "code",
   "execution_count": 111,
   "id": "380c909e-1d1a-4a5c-8267-e486f8f07003",
   "metadata": {},
   "outputs": [],
   "source": [
    "class TextMask:\n",
    "    \n",
    "    def __init__(self, anonymizers: list):\n",
    "        self.anon = AnonymizerChain(Anonymization('en_US'))\n",
    "        for ano in anonymizers:\n",
    "            self.anon.add_anonymizers(ano)\n",
    "            \n",
    "    def anonymize(self, text: str):\n",
    "        return self.anon.anonymize(text)\n",
    "    \n",
    "anonymizers = [EmailAnonymizer, PhoneNumberAnonymizer, UriAnonymizer, DateAnonymizer, CreditCardAnonymizer, IbanAnonymizer, NamedEntitiesAnonymizer('en_core_web_lg')]\n",
    "anon = TextMask(anonymizers)"
   ]
  },
  {
   "cell_type": "code",
   "execution_count": 112,
   "id": "821da246-2d4a-402c-b9f4-627208c6f8e2",
   "metadata": {},
   "outputs": [],
   "source": [
    "df = pd.read_csv('anonymization_test_data.csv')[['messageList.body']]"
   ]
  },
  {
   "cell_type": "code",
   "execution_count": 113,
   "id": "95e2b4b4-1173-4a5e-95ae-caff0d48fcb8",
   "metadata": {},
   "outputs": [
    {
     "name": "stdout",
     "output_type": "stream",
     "text": [
      "(1306,)\n"
     ]
    },
    {
     "data": {
      "text/html": [
       "<div>\n",
       "<style scoped>\n",
       "    .dataframe tbody tr th:only-of-type {\n",
       "        vertical-align: middle;\n",
       "    }\n",
       "\n",
       "    .dataframe tbody tr th {\n",
       "        vertical-align: top;\n",
       "    }\n",
       "\n",
       "    .dataframe thead th {\n",
       "        text-align: right;\n",
       "    }\n",
       "</style>\n",
       "<table border=\"1\" class=\"dataframe\">\n",
       "  <thead>\n",
       "    <tr style=\"text-align: right;\">\n",
       "      <th></th>\n",
       "      <th>messageList.body</th>\n",
       "    </tr>\n",
       "  </thead>\n",
       "  <tbody>\n",
       "    <tr>\n",
       "      <th>0</th>\n",
       "      <td>Liberty Mutual: Thank you for quoting! Finish ...</td>\n",
       "    </tr>\n",
       "    <tr>\n",
       "      <th>1</th>\n",
       "      <td>Stop</td>\n",
       "    </tr>\n",
       "    <tr>\n",
       "      <th>2</th>\n",
       "      <td>Liberty Mutual: You have opted out of this mes...</td>\n",
       "    </tr>\n",
       "    <tr>\n",
       "      <th>3</th>\n",
       "      <td>Liberty Mutual: Thank you for quoting! Finish ...</td>\n",
       "    </tr>\n",
       "    <tr>\n",
       "      <th>4</th>\n",
       "      <td>Stop</td>\n",
       "    </tr>\n",
       "    <tr>\n",
       "      <th>5</th>\n",
       "      <td>Liberty Mutual: You have opted out of this mes...</td>\n",
       "    </tr>\n",
       "    <tr>\n",
       "      <th>6</th>\n",
       "      <td>Liberty Mutual: Thank you for quoting! Finish ...</td>\n",
       "    </tr>\n",
       "    <tr>\n",
       "      <th>7</th>\n",
       "      <td>Stop</td>\n",
       "    </tr>\n",
       "    <tr>\n",
       "      <th>8</th>\n",
       "      <td>Liberty Mutual: You have opted out of this mes...</td>\n",
       "    </tr>\n",
       "    <tr>\n",
       "      <th>9</th>\n",
       "      <td>Liberty Mutual: Thank you for quoting! Finish ...</td>\n",
       "    </tr>\n",
       "  </tbody>\n",
       "</table>\n",
       "</div>"
      ],
      "text/plain": [
       "                                    messageList.body\n",
       "0  Liberty Mutual: Thank you for quoting! Finish ...\n",
       "1                                               Stop\n",
       "2  Liberty Mutual: You have opted out of this mes...\n",
       "3  Liberty Mutual: Thank you for quoting! Finish ...\n",
       "4                                               Stop\n",
       "5  Liberty Mutual: You have opted out of this mes...\n",
       "6  Liberty Mutual: Thank you for quoting! Finish ...\n",
       "7                                               Stop\n",
       "8  Liberty Mutual: You have opted out of this mes...\n",
       "9  Liberty Mutual: Thank you for quoting! Finish ..."
      ]
     },
     "execution_count": 113,
     "metadata": {},
     "output_type": "execute_result"
    }
   ],
   "source": [
    "print(df['messageList.body'].shape)\n",
    "df.head(10)"
   ]
  },
  {
   "cell_type": "code",
   "execution_count": 114,
   "id": "984aef7c-6a73-44cb-94ed-9ea0b1588a7c",
   "metadata": {},
   "outputs": [
    {
     "data": {
      "text/plain": [
       "(129,)"
      ]
     },
     "execution_count": 114,
     "metadata": {},
     "output_type": "execute_result"
    }
   ],
   "source": [
    "df['messageList.body'].unique().shape"
   ]
  },
  {
   "cell_type": "code",
   "execution_count": 115,
   "id": "19561e9a-1bb7-4f16-a2d7-311886ddc298",
   "metadata": {},
   "outputs": [],
   "source": [
    "df = pd.DataFrame({'original': df['messageList.body'].unique()})"
   ]
  },
  {
   "cell_type": "code",
   "execution_count": 117,
   "id": "74369955-39b2-4b58-952a-10fa42fdf338",
   "metadata": {},
   "outputs": [],
   "source": [
    "df['anonymized'] = df['original'].apply(lambda x: anon.anonymize(x))"
   ]
  },
  {
   "cell_type": "code",
   "execution_count": 120,
   "id": "27fdc849-d425-4c75-93d7-aabb2e735f64",
   "metadata": {},
   "outputs": [],
   "source": [
    "df.to_csv('anonymized_test_data.csv', index=False)"
   ]
  },
  {
   "cell_type": "code",
   "execution_count": null,
   "id": "707fd144-93da-4c03-bfc7-67fe6beec1eb",
   "metadata": {},
   "outputs": [],
   "source": []
  }
 ],
 "metadata": {
  "kernelspec": {
   "display_name": "Cortex-Python3.8",
   "language": "python",
   "name": "cortex-python3.8"
  },
  "language_info": {
   "codemirror_mode": {
    "name": "ipython",
    "version": 3
   },
   "file_extension": ".py",
   "mimetype": "text/x-python",
   "name": "python",
   "nbconvert_exporter": "python",
   "pygments_lexer": "ipython3",
   "version": "3.8.15"
  }
 },
 "nbformat": 4,
 "nbformat_minor": 5
}
